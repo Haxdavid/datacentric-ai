{
 "cells": [
  {
   "cell_type": "code",
   "execution_count": 14,
   "metadata": {},
   "outputs": [],
   "source": [
    "from aeon.datasets import tsc_datasets, load_classification\n",
    "import numpy as np"
   ]
  },
  {
   "cell_type": "code",
   "execution_count": null,
   "metadata": {},
   "outputs": [],
   "source": [
    "univ_bake_off_2024 = tsc_datasets.univariate_bake_off_2024\n",
    "# data is not available via download. Only the univariate_equal_length (112) or univariate (128) seems to be accesible"
   ]
  },
  {
   "cell_type": "code",
   "execution_count": null,
   "metadata": {},
   "outputs": [
    {
     "data": {
      "text/plain": [
       "{'problemname': 'faceall',\n",
       " 'timestamps': False,\n",
       " 'missing': False,\n",
       " 'univariate': True,\n",
       " 'equallength': True,\n",
       " 'classlabel': True,\n",
       " 'targetlabel': False,\n",
       " 'class_values': ['1',\n",
       "  '2',\n",
       "  '3',\n",
       "  '4',\n",
       "  '5',\n",
       "  '6',\n",
       "  '7',\n",
       "  '8',\n",
       "  '9',\n",
       "  '10',\n",
       "  '11',\n",
       "  '12',\n",
       "  '13',\n",
       "  '14']}"
      ]
     },
     "execution_count": 12,
     "metadata": {},
     "output_type": "execute_result"
    }
   ],
   "source": [
    "X, y, meta_data = load_classification(name=\"FaceAll\", return_metadata=True) \n",
    "#data is stored in the local path: .venv/lib/python3.11/site-packages/aeon/datasets/local_data from the aeon toolkit.\n",
    "# alternatively Electric Devices is stored in .venv/lib/python3.11/site-packages/sktime/datasets/data \n",
    "meta_data"
   ]
  },
  {
   "cell_type": "code",
   "execution_count": 4,
   "metadata": {},
   "outputs": [],
   "source": [
    "\n",
    "from tsml_eval.publications.y2023.tsc_bakeoff import _set_bakeoff_classifier"
   ]
  },
  {
   "cell_type": "code",
   "execution_count": 7,
   "metadata": {},
   "outputs": [],
   "source": [
    "DTW = _set_bakeoff_classifier(classifier_name=\"dtw\", random_state=0,n_jobs=1)"
   ]
  }
 ],
 "metadata": {
  "kernelspec": {
   "display_name": ".venv",
   "language": "python",
   "name": "python3"
  },
  "language_info": {
   "codemirror_mode": {
    "name": "ipython",
    "version": 3
   },
   "file_extension": ".py",
   "mimetype": "text/x-python",
   "name": "python",
   "nbconvert_exporter": "python",
   "pygments_lexer": "ipython3",
   "version": "3.11.6"
  }
 },
 "nbformat": 4,
 "nbformat_minor": 2
}
